{
 "cells": [
  {
   "cell_type": "markdown",
   "id": "38eae396",
   "metadata": {},
   "source": [
    "# Implementing quantum money from knots"
   ]
  },
  {
   "cell_type": "markdown",
   "id": "7c9811ce",
   "metadata": {},
   "source": [
    "In this notebook we will make an attempt to implement quantum money from knots, see https://arxiv.org/pdf/1004.5127.pdf. To start, we give an example of how to set up a uniform superposition in qiskit on $n=4$ qubits. "
   ]
  },
  {
   "cell_type": "code",
   "execution_count": 198,
   "id": "ef2335e9",
   "metadata": {},
   "outputs": [],
   "source": [
    "import numpy as np\n",
    "import GridPyM as g\n",
    "from scipy.sparse import csc_matrix\n",
    "from qiskit import QuantumCircuit, QuantumRegister, ClassicalRegister, Aer, transpile, assemble, execute\n",
    "from qiskit.visualization import plot_histogram\n",
    "from qiskit.circuit.library import ZGate, MCMT\n",
    "from tqdm.notebook import tqdm\n",
    "import random\n",
    "import qiskit.tools.jupyter"
   ]
  },
  {
   "cell_type": "markdown",
   "id": "b88b049b",
   "metadata": {},
   "source": [
    "## Starting small: generate uniform superposition on 4 qubits\n"
   ]
  },
  {
   "cell_type": "code",
   "execution_count": 199,
   "id": "d11e47a8",
   "metadata": {},
   "outputs": [
    {
     "name": "stdout",
     "output_type": "stream",
     "text": [
      "Amplitudes of the statevector: \n",
      "|0000>: 0.0 \n",
      "|0001>: 0.25 \n",
      "|0010>: 0.0 \n",
      "|0011>: 0.25 \n",
      "|0100>: 0.0 \n",
      "|0101>: 0.25 \n",
      "|0110>: 0.0 \n",
      "|0111>: 0.25 \n",
      "|1000>: 0.0 \n",
      "|1001>: 0.25 \n",
      "|1010>: 0.0 \n",
      "|1011>: 0.25 \n",
      "|1100>: 0.0 \n",
      "|1101>: 0.25 \n",
      "|1110>: 0.0 \n",
      "|1111>: 0.25 \n"
     ]
    }
   ],
   "source": [
    "import numpy as np\n",
    "from qiskit import QuantumCircuit, Aer, execute\n",
    "\n",
    "# Print the statevector in bra-ket notation with a maximum of 3 decimal places\n",
    "def print_state(statevector, n):\n",
    "    print(\"Amplitudes of the statevector: \")\n",
    "    for i, amplitude in enumerate(np.asarray(statevector)):\n",
    "        binary = f\"{i:04b}\"\n",
    "        ket = \"|\" + binary.zfill(n) + \">\"\n",
    "        print(f\"{ket}: {np.round(float(amplitude), 3)} \")\n",
    "\n",
    "def test(n):\n",
    "    # Create a quantum circuit with n qubits\n",
    "    qc = QuantumCircuit(n,n)\n",
    "\n",
    "    # Apply a Hadamard gate to each qubit to create a uniform superposition\n",
    "    qc.h(range(n))\n",
    "\n",
    "    # Execute the circuit on the local simulator\n",
    "    backend = Aer.get_backend('statevector_simulator')\n",
    "    job = execute(qc, backend)\n",
    "\n",
    "    # Get the resulting statevector\n",
    "    statevector = job.result().get_statevector(qc)\n",
    "              \n",
    "        \n",
    "    # Filter out unwanted states, for example all even basis vectors\n",
    "    for i in range(len(statevector)):\n",
    "        if i % 2 == 0:  # replace with your condition\n",
    "            np.asarray(statevector)[i] = 0\n",
    "            \n",
    "    print_state(statevector, n)\n",
    "\n",
    "test(4)      "
   ]
  },
  {
   "cell_type": "markdown",
   "id": "20e954dc",
   "metadata": {},
   "source": [
    "Our goal will be to create a superposition over grid diagrams. So we will need to find a way correspond grid diagrams to bitstrings. \n",
    "\n",
    "## From permutation to binary string\n",
    "A permutation of n elements can be represented as a binary string of length n! using a technique called factorial number system or factoradic. In this system, each digit of the binary string represents a factorial base $(0!, 1!, 2!, 3!, \\ldots)$, and the value of the permutation is obtained by multiplying each digit by its corresponding factorial base and summing the results.\n",
    "\n",
    "Here’s an example of how to represent the permutation $[2, 0, 1]$ as a binary string using the factorial number system:\n",
    "\n",
    "<ul>\n",
    "    <li>First, we need to find the Lehmer code of the permutation. This is done by counting the number of elements to the right of each element that are smaller than it. For the permutation $[2, 0, 1]$, the Lehmer code is $[2, 0, 0]$ because there are two elements to the right of $2$ that are smaller than it ($0$ and $1$), and no elements to the right of 0 or 1 that are smaller than them.\n",
    "    <li>Next, we convert the Lehmer code to a binary string using the factorial number system. The first digit of the Lehmer code $(2)$ is multiplied by its corresponding factorial base $(2!)$ to obtain $4$. The second digit $(0)$ is multiplied by its corresponding factorial base $(1!)$ to obtain $0$. The third digit $(0)$ is multiplied by its corresponding factorial base $(0!)$ to obtain $0$. The sum of these values is $4 + 0 + 0 = 4.$\n",
    "    <li>Finally, we convert this value to a binary string to obtain the final representation of the permutation as a binary string. In this case, the binary representation of $4$ is ‘$100$’, so the permutation $[2, 0, 1]$ can be represented as a binary string ‘$100$’.\n",
    "        \n",
    "        \n",
    "        \n",
    "\n",
    "   \n",
    "\n",
    "\n",
    "\n",
    "\n"
   ]
  },
  {
   "cell_type": "markdown",
   "id": "d60ffb31",
   "metadata": {},
   "source": [
    "## From binary string to permutation\n",
    "<ul>\n",
    "<li>\n",
    "First, we need to convert the binary string to its corresponding value in the factorial number system. In this case, the binary string ‘$100$’ represents the value $4$ in base $10$.\n",
    "<li>\n",
    "Next, we need to convert this value to its corresponding Lehmer code using the factorial number system. To do this, we divide the value by the largest factorial base $(2!)$ and obtain a quotient of $2$ and a remainder of $0$. The quotient becomes the first digit of the Lehmer code. We then divide the remainder by the next largest factorial base $(1!)$ and obtain a quotient of $0$ and a remainder of $0$. The quotient becomes the second digit of the Lehmer code. We repeat this process until all digits of the Lehmer code have been obtained. In this case, the final Lehmer code is $[2, 0, 0]$.\n",
    "<li>\n",
    "Finally, we need to convert the Lehmer code to its corresponding permutation. To do this, we start with an ordered list of elements $[0, 1, 2]$ and use the Lehmer code to construct the permutation. The first digit of the Lehmer code $(2)$ tells us that the first element of the permutation is the third smallest element in the list $(2)$. We remove this element from the list and obtain $[0, 1]$. The second digit of the Lehmer code $(0)$ tells us that the second element of the permutation is the first smallest element in the list $(0)$. We remove this element from the list and obtain $[1]$. The third digit of the Lehmer code $(0)$ tells us that the third element of the permutation is also the first smallest element in the list $(1)$. We remove this element from the list and obtain an empty list. The final permutation is $[2, 0, 1]$."
   ]
  },
  {
   "cell_type": "code",
   "execution_count": 3,
   "id": "53c1edf3",
   "metadata": {},
   "outputs": [],
   "source": [
    "from math import factorial\n",
    "\n",
    "def binary_to_permutation(binary_string, n):\n",
    "    # Convert the binary string to its corresponding value \n",
    "    value = int(binary_string, 2)\n",
    "    \n",
    "    # Check if the value is within the valid range\n",
    "    if not 0 <= value < factorial(n):\n",
    "        raise ValueError\n",
    "        \n",
    "    # Convert the value to its corresponding Lehmer code\n",
    "    lehmer_code = []\n",
    "    for i in range(n - 1, -1, -1):\n",
    "        quotient, value = divmod(value, factorial(i))\n",
    "        lehmer_code.append(quotient)\n",
    "    \n",
    "    # Convert the Lehmer code to its corresponding permutation\n",
    "    elements = list(range(n))\n",
    "    permutation = []\n",
    "    for code in lehmer_code:\n",
    "        permutation.append(elements.pop(code))\n",
    "    \n",
    "    return permutation"
   ]
  },
  {
   "cell_type": "code",
   "execution_count": 4,
   "id": "ef619c14",
   "metadata": {},
   "outputs": [],
   "source": [
    "def permutation_to_factoradic(permutation):\n",
    "    n = len(permutation)\n",
    "    factoradic = [0] * n\n",
    "    for i in range(n):\n",
    "        factoradic[i] = permutation[i]\n",
    "        for j in range(i):\n",
    "            if permutation[j] < permutation[i]:\n",
    "                factoradic[i] -= 1\n",
    "    return factoradic\n",
    "\n",
    "def factoradic_to_decimal(factoradic):\n",
    "    n = len(factoradic)\n",
    "    decimal = 0\n",
    "    for i in range(n):\n",
    "        decimal += factoradic[i] * factorial(n - i - 1)\n",
    "    return decimal\n",
    "\n",
    "def permutation_to_binary(permutation):\n",
    "    factoradic = permutation_to_factoradic(permutation)\n",
    "    decimal = factoradic_to_decimal(factoradic)\n",
    "    binary = bin(decimal)[2:]\n",
    "    return binary\n"
   ]
  },
  {
   "cell_type": "code",
   "execution_count": 5,
   "id": "dc175066",
   "metadata": {},
   "outputs": [],
   "source": [
    "# Given an integer n, representing the number of bits available,\n",
    "# return the largest integer m such that all permutations of\n",
    "# length m can be reached by using n bits. This is the largest m\n",
    "# such that m! < 2^n - 1.\n",
    "def max_permutation_length(n):\n",
    "    max_value = 2 ** n - 1\n",
    "    m = 0\n",
    "    while factorial(m) <= max_value:\n",
    "        m += 1\n",
    "    return m - 1"
   ]
  },
  {
   "cell_type": "markdown",
   "id": "0ecc9652",
   "metadata": {},
   "source": [
    "## From two disjoint permutations to a planar grid diagram of a link\n",
    "\n",
    "An $n\\times n$ planar grid diagram is specified by two disjoint permutation of length $n$. GridPyM is a python library that allows us to work with disjoint permutation representations of links. See https://arxiv.org/pdf/2210.07399.pdf and https://github.com/agnesedaniele/GridPythonModule."
   ]
  },
  {
   "cell_type": "code",
   "execution_count": 7,
   "id": "ae536496",
   "metadata": {},
   "outputs": [
    {
     "data": {
      "text/plain": [
       "1"
      ]
     },
     "execution_count": 7,
     "metadata": {},
     "output_type": "execute_result"
    }
   ],
   "source": [
    "# An invalid grid: the permutations are not disjoint. Gives output 1\n",
    "G = [[0,1,2,3,4],[0,3,4,0,1]]\n",
    "g.check_grid(G)"
   ]
  },
  {
   "cell_type": "code",
   "execution_count": 209,
   "id": "f54eca7b",
   "metadata": {},
   "outputs": [
    {
     "data": {
      "image/png": "[encoded data removed]",
      "text/plain": [
       "<Figure size 640x480 with 1 Axes>"
      ]
     },
     "metadata": {},
     "output_type": "display_data"
    }
   ],
   "source": [
    "# Drawing example\n",
    "G = [[5,1,7,3,12,4,6,0,11,2,8,13,19,10,21,15,17,9,18,14,20,16], \n",
    "     [0,4,2,6,5,8,1,7,3,10,12,9,11,18,14,20,13,16,15,19,17,21] ]\n",
    "if not g.check_grid(G):\n",
    "    g.draw_grid(G, markings='XO')\n",
    "else:\n",
    "    print(\"invalid\")  "
   ]
  },
  {
   "cell_type": "markdown",
   "id": "d93724e0",
   "metadata": {},
   "source": [
    "## Gauss code\n",
    "We use Sage for calculating Alexander polynomials. Unfortunately, Sage does not support the disjoint permutation representation of links. Sage does support oriented Gauss code.\n",
    "\n",
    "Label the crossings from $1$ to $n$ (where $n$ is the number of crossings) and start moving along the link. Trace every component of the link, by starting at a particular point on one component of the link and writing down each of the crossings that you encounter until returning to the starting point. The crossings are written with sign depending on whether we cross them as over or undercrossing. Each component is then represented as a list whose elements are the crossing numbers. A second list of $+1$ and $-1$’s keeps track of the orientation of each crossing."
   ]
  },
  {
   "cell_type": "code",
   "execution_count": 228,
   "id": "86cbb130",
   "metadata": {},
   "outputs": [],
   "source": [
    "#+++++++++++++++++++++++++++++++++++++++++++++++++++++++++++++++++++++++++++++++++++++++\n",
    "# Converts a grid consisting of two disjoint permutations (as lists) to oriented gauss code supported by Sage.\n",
    "# It ignores disjoint unknots without crossings contained in the diagram.\n",
    "# Based on the Gauss code function of GridPyM.\n",
    "def Gauss_code(grid):\n",
    "    A = grid[0]\n",
    "    B = grid[1]\n",
    "    final_gauss_code = []\n",
    "    crossing_assignment = []\n",
    "    c = 1\n",
    "    coord = []\n",
    "    columns = [i for i in range(len(A))]\n",
    "    while len(columns) > 1:\n",
    "        gauss_code = []\n",
    "        column = min(columns)\n",
    "        flag = False\n",
    "        start = column\n",
    "        while flag == 0:\n",
    "            valueB = B[column]\n",
    "            valueA = A[column]\n",
    "            if valueB < valueA:\n",
    "                for i in range(valueB + 1,valueA):\n",
    "                    v1 = min(A.index(i), B.index(i))\n",
    "                    v2 = max(A.index(i), B.index(i))\n",
    "                    if v1 < column < v2:\n",
    "                        pos = [column,i]\n",
    "                        if pos not in coord:\n",
    "                            coord.append(pos)\n",
    "                            gauss_code.append(-c)\n",
    "                            c = c + 1\n",
    "                            if B.index(i) > A.index(i):\n",
    "                                crossing_assignment.append(-1)\n",
    "                            if B.index(i) < A.index(i):\n",
    "                                crossing_assignment.append(1)\n",
    "                        else:\n",
    "                            caux = coord.index(pos) + 1\n",
    "                            gauss_code.append(-caux)\n",
    "            if valueB > valueA:\n",
    "                for i in range(valueB - 1, valueA, -1):\n",
    "                    v1 = min(A.index(i), B.index(i))\n",
    "                    v2 = max(A.index(i), B.index(i))\n",
    "                    if v1 < column < v2:\n",
    "                        pos = [column,i]\n",
    "                        if pos not in coord:\n",
    "                            coord.append(pos)\n",
    "                            gauss_code.append(-c)\n",
    "                            c = c + 1\n",
    "                            if B.index(i) > A.index(i):\n",
    "                                crossing_assignment.append(1)\n",
    "                            if B.index(i) < A.index(i):\n",
    "                                crossing_assignment.append(-1)\n",
    "                        else:\n",
    "                            caux = coord.index(pos) + 1\n",
    "                            gauss_code.append(-caux)\n",
    "            if B.index(valueA) > column:\n",
    "                for i in range(column + 1, B.index(valueA)):\n",
    "                    if min(A[i], B[i]) < valueA < max(A[i], B[i]):\n",
    "                        pos = [i,valueA]\n",
    "                        if pos not in coord:\n",
    "                            coord.append(pos)\n",
    "                            gauss_code.append(c)\n",
    "                            c = c + 1\n",
    "                            if B[i] > A[i]:\n",
    "                                crossing_assignment.append(1)\n",
    "                            if B[i] < A[i]:\n",
    "                                crossing_assignment.append(-1)\n",
    "                        else:\n",
    "                            caux = coord.index(pos)+1\n",
    "                            gauss_code.append(caux)\n",
    "            if B.index(valueA) < column:\n",
    "                for i in range(column - 1 ,B.index(valueA), -1):\n",
    "                    if min(A[i], B[i]) < valueA < max(A[i], B[i]):\n",
    "                        pos = [i, valueA]\n",
    "                        if pos not in coord:\n",
    "                            coord.append(pos)\n",
    "                            gauss_code.append(c)\n",
    "                            c = c + 1\n",
    "                            if B[i] > A[i]:\n",
    "                                crossing_assignment.append(-1)\n",
    "                            if B[i] < A[i]:\n",
    "                                crossing_assignment.append(1)\n",
    "                        else:\n",
    "                            caux = coord.index(pos) + 1\n",
    "                            gauss_code.append(caux)\n",
    "            columns.remove(column)\n",
    "            column = B.index(valueA)\n",
    "            if column == start:\n",
    "                flag = True\n",
    "        if len(gauss_code) > 0:\n",
    "            final_gauss_code.append(gauss_code)\n",
    "    return([final_gauss_code,crossing_assignment])"
   ]
  },
  {
   "cell_type": "markdown",
   "id": "1afe5d40",
   "metadata": {},
   "source": [
    "## Calculating the Alexander polynomial\n",
    "\n",
    "One of the few already existing implementations for calculating the Alexander polynomial of oriented links is found in the Sage library. Unfortunately, the function often hangs indefinitely."
   ]
  },
  {
   "cell_type": "code",
   "execution_count": 213,
   "id": "c7feb7c2",
   "metadata": {},
   "outputs": [
    {
     "data": {
      "text/plain": [
       "t^-1 - 2 + t"
      ]
     },
     "execution_count": 213,
     "metadata": {},
     "output_type": "execute_result"
    }
   ],
   "source": [
    "# Generate random 20 x 20 grid containing a 3-component link and plot it using Sage\n",
    "G = g.generate_random_grid(16, 3)\n",
    "#g.draw_grid(G, markings='XO')\n",
    "L= Link(Gauss_code(G))\n",
    "L.alexander_polynomial()"
   ]
  },
  {
   "cell_type": "code",
   "execution_count": 231,
   "id": "e358a6d8",
   "metadata": {},
   "outputs": [
    {
     "data": {
      "image/png": "[encoded data removed]",
      "text/plain": [
       "<Figure size 640x480 with 1 Axes>"
      ]
     },
     "metadata": {},
     "output_type": "display_data"
    },
    {
     "name": "stdout",
     "output_type": "stream",
     "text": [
      "[[[1, 2, 3, -4, -5, 6, 7, 5, 4, 8, 9, -1], [-10, -9, -2, -3, -8, 10], [-6, -7]], [1, 1, -1, 1, -1, -1, 1, 1, -1, -1]]\n"
     ]
    },
    {
     "data": {
      "image/png": "[encoded data removed]",
      "text/plain": [
       "Graphics object consisting of 35 graphics primitives"
      ]
     },
     "execution_count": 231,
     "metadata": {},
     "output_type": "execute_result"
    }
   ],
   "source": [
    "# Generate random 20 x 20 grid containing a 3-component link and plot it using Sage\n",
    "G = g.generate_random_grid(10, 3)\n",
    "g.draw_grid(G, markings='XO')\n",
    "print(Gauss_code(G))\n",
    "L= Link(Gauss_code(G))\n",
    "L.plot()"
   ]
  },
  {
   "cell_type": "code",
   "execution_count": 197,
   "id": "85ef9bca",
   "metadata": {},
   "outputs": [
    {
     "data": {
      "text/plain": [
       "t^-2 - 4*t^-1 + 6 - 4*t + t^2"
      ]
     },
     "execution_count": 197,
     "metadata": {},
     "output_type": "execute_result"
    }
   ],
   "source": [
    "# Calculate the Alexander polynomial, this often does not work for random links on n x n grids with n > 18 \n",
    "L.alexander_polynomial()"
   ]
  },
  {
   "cell_type": "code",
   "execution_count": 214,
   "id": "0bbaa783",
   "metadata": {},
   "outputs": [
    {
     "data": {
      "image/png": "[encoded data removed]",
      "text/plain": [
       "Graphics object consisting of 58 graphics primitives"
      ]
     },
     "execution_count": 214,
     "metadata": {},
     "output_type": "execute_result"
    }
   ],
   "source": [
    "# Sage doesnt like the following link for example\n",
    "L = Link([[[1, 2, -2, -3, -4, -5, -6, 7, -8, 9, 10, 4, -7, -11, 5, 6, 11, 8], [-9, -10, -12, -1, 3, 12]], [1, -1, 1, -1, -1, 1, -1, -1, -1, 1, -1, -1]])\n",
    "#%prun L.alexander_polynomial() # Does not work for this L \n",
    "L.plot()"
   ]
  },
  {
   "cell_type": "markdown",
   "id": "efbb0601",
   "metadata": {},
   "source": [
    "## Generating a uniform superpositions of planar grid diagrams"
   ]
  },
  {
   "cell_type": "code",
   "execution_count": 235,
   "id": "df95ab4e",
   "metadata": {},
   "outputs": [],
   "source": [
    "# Function to check if two permutations are disjoint\n",
    "def is_disjoint(coord_perm1, coord_perm2):\n",
    "    for i in range(len(coord_perm1)):\n",
    "        if coord_perm1[i] == coord_perm2[i]:\n",
    "            return False\n",
    "    return True\n",
    "\n",
    "# Prepare a uniform superposition on n qubits and filter it to a superposition of grid diagrams\n",
    "def prepare_state(n):\n",
    "    # The largest m such that we can generate all permutations of length m with floor(n/2) bits\n",
    "    m = max_permutation_length(n // 2) \n",
    "\n",
    "    # Create a quantum circuit with n qubits\n",
    "    qc = QuantumCircuit(n,n)\n",
    "\n",
    "    # Apply a Hadamard gate to each qubit to create a uniform superposition\n",
    "    qc.h(range(n))\n",
    "\n",
    "    # execute the circuit on the statevector simulator so we can inspect the state afterwards\n",
    "    backend = Aer.get_backend('statevector_simulator')\n",
    "    result = execute(qc, backend).result()\n",
    "    statevector = result.get_statevector()\n",
    "    \n",
    "    # Filter non disjoint permutations and unnecessary ones by setting their amplitutes to 0\n",
    "    for i in tqdm(range(len(statevector))):\n",
    "        binary_string = bin(i)[2:].zfill(n)\n",
    "        middle = len(binary_string) // 2\n",
    "        first_half = binary_string[:middle]\n",
    "        second_half = binary_string[-middle:]\n",
    "        try:\n",
    "            X = binary_to_permutation(first_half, m)\n",
    "            O = binary_to_permutation(second_half, m)\n",
    "            if not is_disjoint(X,O):\n",
    "                np.asarray(statevector)[i] = 0 \n",
    "        except ValueError:\n",
    "            # not all basis elements are required to generate all pairs of m permutations\n",
    "            np.asarray(statevector)[i] = 0            \n",
    "            \n",
    "    # Normalise the result\n",
    "    return statevector / np.linalg.norm(statevector)     \n",
    "\n",
    "# L.alexander_polynomial() is too inconsistent unfortunately; it will hang often\n",
    "def inspect_state(n, statevector, PRINT_RANDOM_SAMPLE = True, PRINT_DIAGRAM = True, \n",
    "                  PRINT_ALEXANDER = False):\n",
    "    m = max_permutation_length(n // 2) \n",
    "    \n",
    "    # Convert to sparse representation as a lot of the amplitudes have been set to 0\n",
    "    sparse_statevector = csc_matrix(np.asarray(statevector))\n",
    "\n",
    "    # Find indices of non-zero elements\n",
    "    # looping over this list saves a lot of time compared to looping over the statevector\n",
    "    nonzero_indices = sparse_statevector.nonzero()\n",
    "    \n",
    "    sample = nonzero_indices[1]\n",
    "\n",
    "    # Get random sample of grids\n",
    "    if PRINT_RANDOM_SAMPLE:\n",
    "        sample = random.sample(list(nonzero_indices[1]), 5)\n",
    "    \n",
    "    # Print some of the link diagrams generated\n",
    "    for i in tqdm(sample):\n",
    "        amplitude = statevector[int(i)]\n",
    "        \n",
    "        if np.isclose(0, amplitude):\n",
    "            continue # skip basisvectors with 0 amplitude\n",
    "        \n",
    "        binary_string = bin(i)[2:].zfill(n)\n",
    "        middle = len(binary_string) // 2\n",
    "        first_half = binary_string[:middle]\n",
    "        second_half = binary_string[-middle:]\n",
    "        try:\n",
    "            X = binary_to_permutation(first_half, m)\n",
    "            O = binary_to_permutation(second_half, m)\n",
    "            G = [X,O]\n",
    "            if PRINT_DIAGRAM:\n",
    "                g.draw_grid(G, markings='XO')\n",
    "            if PRINT_ALEXANDER:\n",
    "                L = Link(Gauss_code(G))\n",
    "                print(\"Alexander polynomial: \", L.alexander_polynomial())\n",
    "        except ValueError:\n",
    "            pass\n",
    "        except AssertionError as e:\n",
    "            print(e)"
   ]
  },
  {
   "cell_type": "code",
   "execution_count": 232,
   "id": "68cc10cd",
   "metadata": {},
   "outputs": [
    {
     "data": {
      "application/vnd.jupyter.widget-view+json": {
       "model_id": "9ba67b948c294047a8e1d263601b298d",
       "version_major": 2,
       "version_minor": 0
      },
      "text/plain": [
       "  0%|          | 0/1048576 [00:00<?, ?it/s]"
      ]
     },
     "metadata": {},
     "output_type": "display_data"
    }
   ],
   "source": [
    "# Going higher then 30 qubits is not feasible\n",
    "n=20\n",
    "statevector = prepare_state(n)"
   ]
  },
  {
   "cell_type": "code",
   "execution_count": 236,
   "id": "821ab018",
   "metadata": {},
   "outputs": [
    {
     "data": {
      "application/vnd.jupyter.widget-view+json": {
       "model_id": "083220d3600949f390b7bf5f656036bf",
       "version_major": 2,
       "version_minor": 0
      },
      "text/plain": [
       "  0%|          | 0/5 [00:00<?, ?it/s]"
      ]
     },
     "metadata": {},
     "output_type": "display_data"
    },
    {
     "data": {
      "image/png": "[encoded data removed]",
      "text/plain": [
       "<Figure size 640x480 with 1 Axes>"
      ]
     },
     "metadata": {},
     "output_type": "display_data"
    },
    {
     "data": {
      "image/png": "[encoded data removed]",
      "text/plain": [
       "<Figure size 640x480 with 1 Axes>"
      ]
     },
     "metadata": {},
     "output_type": "display_data"
    },
    {
     "data": {
      "image/png": "[encoded data removed]",
      "text/plain": [
       "<Figure size 640x480 with 1 Axes>"
      ]
     },
     "metadata": {},
     "output_type": "display_data"
    },
    {
     "data": {
      "image/png": "[encoded data removed]",
      "text/plain": [
       "<Figure size 640x480 with 1 Axes>"
      ]
     },
     "metadata": {},
     "output_type": "display_data"
    },
    {
     "data": {
      "image/png": "[encoded data removed]",
      "text/plain": [
       "<Figure size 640x480 with 1 Axes>"
      ]
     },
     "metadata": {},
     "output_type": "display_data"
    }
   ],
   "source": [
    "inspect_state(n, statevector, PRINT_ALEXANDER=False)"
   ]
  }
 ],
 "metadata": {
  "kernelspec": {
   "display_name": "SageMath 9.8",
   "language": "sage",
   "name": "sagemath-9.8"
  },
  "language_info": {
   "codemirror_mode": {
    "name": "ipython",
    "version": 3
   },
   "file_extension": ".py",
   "mimetype": "text/x-python",
   "name": "python",
   "nbconvert_exporter": "python",
   "pygments_lexer": "ipython3",
   "version": "3.11.1"
  }
 },
 "nbformat": 4,
 "nbformat_minor": 5
}
